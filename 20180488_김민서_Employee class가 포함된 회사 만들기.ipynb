{
 "cells": [
  {
   "cell_type": "code",
   "execution_count": 1,
   "metadata": {},
   "outputs": [
    {
     "name": "stdout",
     "output_type": "stream",
     "text": [
      "현재 시간은 : 2022-04-16 20:11:14.998048\n",
      "\n",
      "이름:김철수\n",
      "나이:55\n",
      "성별:남\n",
      "\n",
      "김철수 임원의 연봉은 1억원이고, 입사일은 2022-3-22입니다\n",
      "담당부서는 회계 입니다.\n",
      "\n",
      "김철수의 직장 내 평가 점수는 10점 만점에 9점입니다.\n",
      "\n",
      "이름:김민서\n",
      "나이:24\n",
      "성별:여\n",
      "\n",
      "김민서 사원의 연봉은 2억원이고, 입사일은 2022-3-22입니다\n",
      "\n",
      "이름:김나령\n",
      "나이:22\n",
      "성별:여\n",
      "\n",
      "김나령 사원의 연봉은 3천원이고, 입사일은 2022-3-30입니다\n",
      "올해 성과가 있습니다.\n",
      "\n",
      "이름:김성준\n",
      "나이:27\n",
      "성별:남\n",
      "\n",
      "김성준 사원의 연봉은 2천5백원이고, 입사일은 2022-3-20입니다\n",
      "퇴사 예정입니다.\n",
      "\n",
      "회사의 총 직원 수는 4 명 입니다.\n",
      "\n",
      "코드 실행에 걸린 시간은: 0.0017201900482177734\n"
     ]
    }
   ],
   "source": [
    "from datetime import datetime\n",
    "import time\n",
    "start = time.time()\n",
    "\n",
    "current_time = datetime.now()\n",
    "print('현재 시간은 :',current_time)\n",
    "\n",
    "class Person:\n",
    "    count = 0 #class 변수 (직원 수)\n",
    "    \n",
    "    def __init__(self,name,age,gender): #이름,나이,성별\n",
    "        self.Name = name\n",
    "        self.Age= age\n",
    "        self.Gender = gender\n",
    "        Person.count += 1 \n",
    "    \n",
    "    def aboutMe(self):\n",
    "        print('\\n이름:' + self.Name + \"\\n나이:\"+self.Age + '\\n성별:'+self.Gender)\n",
    "    \n",
    "    @classmethod #class method를 활용해 회사의 전체 인원 파악 가능\n",
    "    def total(cls):\n",
    "        print('\\n회사의 총 직원 수는',Person.count,'명 입니다.\\n')\n",
    "    \n",
    "class Employee(Person): #급여, 입사날짜, 평판\n",
    "    def __init__(self,name,age,gender,salary,hiredate,rate):\n",
    "        Person.__init__(self,name,age,gender)\n",
    "        self.Salary = salary\n",
    "        self.Hiredate = hiredate\n",
    "        self.Rate = rate\n",
    "    \n",
    "    def aboutMe(self):\n",
    "        Person.aboutMe(self)\n",
    "        print('\\n'+self.Name,'사원의 연봉은 '+self.Salary+'원이고, 입사일은 '+self.Hiredate+'입니다')\n",
    "    \n",
    "    @property #평판은 따로 찾아볼 수 있게 property로 데코레이션\n",
    "    def rate(self):\n",
    "        return self.Name+'의 직장 내 평가 점수는 10점 만점에 '+self.Rate+'점입니다.'\n",
    "        \n",
    "    @rate.setter\n",
    "    def rate(self,value):\n",
    "        value = str(value)\n",
    "        self.Rate = value\n",
    "        print('평가점수가 수정되었습니다.')\n",
    "        \n",
    "    @rate.deleter\n",
    "    def rate(self):\n",
    "        del self.Rate\n",
    "        \n",
    "class Manager(Employee):#매니저의 담당부서\n",
    "    def __init__(self,name,age,gender,salary,hiredate,rate,position):\n",
    "        Employee.__init__(self,name,age,gender,salary,hiredate,rate)\n",
    "        self.position = position\n",
    "        \n",
    "    def aboutMe(self):\n",
    "        Person.aboutMe(self)\n",
    "        print('\\n'+self.Name,'임원의 연봉은 '+self.Salary+'원이고, 입사일은 '+self.Hiredate+'입니다')\n",
    "        print('담당부서는',self.position,'입니다.\\n')\n",
    "\n",
    "    \n",
    "class Staff(Employee): #올해의 성과\n",
    "    def __init__(self,name,age,gender,salary,hiredate,rate,performance):\n",
    "        Employee.__init__(self,name,age,gender,salary,hiredate,rate)\n",
    "        self.performance = performance\n",
    "    \n",
    "    def aboutMe(self):\n",
    "        Employee.aboutMe(self)\n",
    "        if self.performance == True:\n",
    "            print('올해 성과가 있습니다.')\n",
    "        else:\n",
    "            print('올해 성과가 없습니다.')\n",
    "        \n",
    "class Hourly(Employee): #정직 전환 유무\n",
    "    def __init__(self,name,age,gender,salary,hiredate,rate,turn):\n",
    "        Employee.__init__(self,name,age,gender,salary,hiredate,rate)\n",
    "        self.Turn = turn\n",
    "        \n",
    "    def aboutMe(self):\n",
    "        Employee.aboutMe(self)\n",
    "        if self.Turn == True:\n",
    "            print('정직원 전환 예정입니다.')\n",
    "        else:\n",
    "            print('퇴사 예정입니다.')\n",
    "    \n",
    "employee1 = Manager(\"김철수\",'55','남','1억','2022-3-22','9','회계')\n",
    "employee1.aboutMe()\n",
    "print(employee1.rate)\n",
    "\n",
    "employee2 = Employee(\"김민서\",'24','여','2억','2022-3-22','10')\n",
    "employee2.aboutMe()\n",
    "\n",
    "employee3 = Staff('김나령','22','여','3천','2022-3-30','8',True)\n",
    "employee3.aboutMe()\n",
    "\n",
    "employee4 = Hourly('김성준','27','남','2천5백','2022-3-20','3',False)\n",
    "employee4.aboutMe()\n",
    "\n",
    "Person.total()\n",
    "\n",
    "print(\"코드 실행에 걸린 시간은:\", time.time() - start)"
   ]
  },
  {
   "cell_type": "code",
   "execution_count": 2,
   "metadata": {},
   "outputs": [
    {
     "name": "stdout",
     "output_type": "stream",
     "text": [
      "평가점수가 수정되었습니다.\n"
     ]
    },
    {
     "data": {
      "text/plain": [
       "'김민서의 직장 내 평가 점수는 10점 만점에 10점입니다.'"
      ]
     },
     "execution_count": 2,
     "metadata": {},
     "output_type": "execute_result"
    }
   ],
   "source": [
    "employee2.rate = 10\n",
    "employee2.rate"
   ]
  },
  {
   "cell_type": "code",
   "execution_count": null,
   "metadata": {},
   "outputs": [],
   "source": [
    "\n"
   ]
  }
 ],
 "metadata": {
  "kernelspec": {
   "display_name": "Python 3",
   "language": "python",
   "name": "python3"
  },
  "language_info": {
   "codemirror_mode": {
    "name": "ipython",
    "version": 3
   },
   "file_extension": ".py",
   "mimetype": "text/x-python",
   "name": "python",
   "nbconvert_exporter": "python",
   "pygments_lexer": "ipython3",
   "version": "3.8.3"
  }
 },
 "nbformat": 4,
 "nbformat_minor": 4
}
