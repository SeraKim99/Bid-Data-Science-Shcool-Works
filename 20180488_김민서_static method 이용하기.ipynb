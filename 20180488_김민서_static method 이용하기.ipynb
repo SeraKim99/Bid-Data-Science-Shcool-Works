{
 "cells": [
  {
   "cell_type": "code",
   "execution_count": 1,
   "metadata": {},
   "outputs": [],
   "source": [
    "import time\n",
    "from datetime import datetime, date, timedelta\n",
    "\n",
    "#b.show의 결과와 print(b.date)의 결과가 같아야한다.\n",
    "\n",
    "class Date:\n",
    "    def __init__(self,date):\n",
    "        self._date = date\n",
    "    \n",
    "    @property\n",
    "    def date(self):\n",
    "        t = time.time()\n",
    "        a = time.localtime(t) \n",
    "        a = time.strftime('%Y,%m,%d',a) \n",
    "\n",
    "        if self._date.replace(' ','0') == a:\n",
    "            return 'date: today'\n",
    "        else:\n",
    "            return 'date: '+self._date\n",
    "    \n",
    "    def show(self):\n",
    "        t = time.time()\n",
    "        a = time.localtime(t) \n",
    "        a = time.strftime('%Y,%m,%d',a) \n",
    "\n",
    "        if self._date.replace(' ','0') == a:\n",
    "            print('date: today')\n",
    "        else:\n",
    "            print('date:',self._date)\n",
    "            \n",
    "    @staticmethod        \n",
    "    def now():\n",
    "        t = time.time()\n",
    "        a = time.localtime(t) \n",
    "        a = time.strftime('%Y,%m,%d',a) \n",
    "        return Date(a)\n",
    "    \n",
    "    @staticmethod\n",
    "    def yesterday(date):\n",
    "        date = date.replace(' ','0')\n",
    "        y = datetime.strptime(date,'%Y,%m,%d') - timedelta(1) \n",
    "        return Date(y.strftime('%Y,%m,%d').replace(\",0\",\", \"))"
   ]
  },
  {
   "cell_type": "code",
   "execution_count": 2,
   "metadata": {},
   "outputs": [
    {
     "name": "stdout",
     "output_type": "stream",
     "text": [
      "date: 2022, 4, 7\n",
      "date: today\n",
      "date: 2022, 4, 6\n"
     ]
    }
   ],
   "source": [
    "a = Date('2022, 4, 7')\n",
    "a.show()\n",
    "b = Date.now()\n",
    "b.show()\n",
    "c = Date.yesterday('2022, 4, 7')\n",
    "c.show()"
   ]
  },
  {
   "cell_type": "code",
   "execution_count": 3,
   "metadata": {},
   "outputs": [
    {
     "name": "stdout",
     "output_type": "stream",
     "text": [
      "date: today\n",
      "date: today\n",
      "date: 2022, 4, 6\n"
     ]
    }
   ],
   "source": [
    "a = Date('2022, 4,18')\n",
    "a.show()\n",
    "b = Date.now()\n",
    "print(b.date)\n",
    "c = Date.yesterday('2022, 4, 7')\n",
    "print(c.date)"
   ]
  },
  {
   "cell_type": "code",
   "execution_count": null,
   "metadata": {},
   "outputs": [],
   "source": []
  }
 ],
 "metadata": {
  "kernelspec": {
   "display_name": "Python 3",
   "language": "python",
   "name": "python3"
  },
  "language_info": {
   "codemirror_mode": {
    "name": "ipython",
    "version": 3
   },
   "file_extension": ".py",
   "mimetype": "text/x-python",
   "name": "python",
   "nbconvert_exporter": "python",
   "pygments_lexer": "ipython3",
   "version": "3.8.3"
  }
 },
 "nbformat": 4,
 "nbformat_minor": 4
}
