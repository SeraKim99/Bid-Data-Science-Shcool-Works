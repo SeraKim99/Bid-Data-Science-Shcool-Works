{
 "cells": [
  {
   "cell_type": "code",
   "execution_count": 8,
   "metadata": {},
   "outputs": [
    {
     "name": "stdout",
     "output_type": "stream",
     "text": [
      "Overwriting oop_year.py\n"
     ]
    }
   ],
   "source": [
    "%%writefile oop_year.py\n",
    "\n",
    "def input_date():\n",
    "    year = int(input(\"__년도를 입력하시오:\"))\n",
    "    month = int(input(\"__월을 입력하시오:\"))\n",
    "    day = int(input(\"__일을 입력하시오:\"))\n",
    "    return year, month, day\n",
    "\n",
    "def is_leap(year):\n",
    "    if year%4 == 0 and year%100 != 0 or year%400 == 0:\n",
    "        return True\n",
    "    else:\n",
    "        return False\n",
    "    \n",
    "class DayName:\n",
    "    def __init__(self, year, month, day):\n",
    "        self.year = year\n",
    "        self.month = month\n",
    "        self.day = day\n",
    "    \n",
    "    def get_name(self):\n",
    "        shorts = [4,6,9,11]\n",
    "        longs = [1,3,5,7,8,10,12]\n",
    "        daylist=['월요일','화요일','수요일','목요일','금요일','토요일','일요일']\n",
    "        a=0\n",
    "        message = '입력하신 날짜는 존재하지 않습니다.'\n",
    "        \n",
    "        if self.year < 0 :\n",
    "            return message #존재하지 않는 년\n",
    "        \n",
    "        elif self.month not in [1,2,3,4,5,6,7,8,9,10,11,12]:\n",
    "            return message\n",
    "             #존재하지 않는 달\n",
    "\n",
    "        elif self.day < 1 : \n",
    "            return message\n",
    "\n",
    "        elif (self.month in longs) and (self.day > 31) : \n",
    "            return message\n",
    "             #긴달에 날짜 31일 초과\n",
    "\n",
    "        elif (self.month in shorts) and (self.day > 30): \n",
    "            return message\n",
    "             #짧은 달에 날짜 30일 초과\n",
    "\n",
    "        elif (is_leap(self.year) == False) and self.month == 2 and self.day > 28: #윤년아닌데 2월에서 29일 이상을 치면\n",
    "            return message\n",
    "            \n",
    "\n",
    "        elif (is_leap(self.year) == True) and self.month == 2 and self.day > 29: #윤년인데 2월에서 30일 이상을 치면\n",
    "            return message\n",
    "                \n",
    "\n",
    "        else:\n",
    "            if is_leap(self.year)==True:\n",
    "                print('윤년입니다.') #윤년일 때 말해주기\n",
    "            for i in range (1,self.year): #서기 1년부터\n",
    "                if is_leap(i)==True: #윤년이면\n",
    "                    a+=366 #366일\n",
    "                else:\n",
    "                    a+=365 #아니면 365일\n",
    "\n",
    "            for k in range(1,self.month): #1월 부터 입력 전 달까지 반복\n",
    "                if  k in longs:\n",
    "                    a+=31\n",
    "                elif k in shorts:\n",
    "                    a+=30\n",
    "                else:\n",
    "                    if is_leap(self.year)==True: \n",
    "                        a+=29\n",
    "                    else:\n",
    "                        a+=28\n",
    "        a+=self.day\n",
    "        return daylist[int((a%7)-1)]\n",
    "\n",
    "        \n",
    "            \n",
    "if __name__ ==\"__main__\":\n",
    "    year, month, day = input_date()\n",
    "    day_name = DayName(year, month, day)\n",
    "    print(day_name.get_name()) #False 메세지 또는 요일"
   ]
  },
  {
   "cell_type": "code",
   "execution_count": 9,
   "metadata": {},
   "outputs": [
    {
     "name": "stdout",
     "output_type": "stream",
     "text": [
      "__년도를 입력하시오:-1\n",
      "__월을 입력하시오:2\n",
      "__일을 입력하시오:3\n",
      "입력하신 날짜는 존재하지 않습니다.\n"
     ]
    }
   ],
   "source": [
    "%run oop_year.py"
   ]
  },
  {
   "cell_type": "code",
   "execution_count": 10,
   "metadata": {},
   "outputs": [
    {
     "name": "stdout",
     "output_type": "stream",
     "text": [
      "__년도를 입력하시오:2022\n",
      "__월을 입력하시오:2\n",
      "__일을 입력하시오:2\n",
      "수요일\n"
     ]
    }
   ],
   "source": [
    "%run oop_year.py"
   ]
  },
  {
   "cell_type": "code",
   "execution_count": null,
   "metadata": {},
   "outputs": [],
   "source": []
  }
 ],
 "metadata": {
  "kernelspec": {
   "display_name": "Python 3",
   "language": "python",
   "name": "python3"
  },
  "language_info": {
   "codemirror_mode": {
    "name": "ipython",
    "version": 3
   },
   "file_extension": ".py",
   "mimetype": "text/x-python",
   "name": "python",
   "nbconvert_exporter": "python",
   "pygments_lexer": "ipython3",
   "version": "3.8.3"
  }
 },
 "nbformat": 4,
 "nbformat_minor": 4
}
